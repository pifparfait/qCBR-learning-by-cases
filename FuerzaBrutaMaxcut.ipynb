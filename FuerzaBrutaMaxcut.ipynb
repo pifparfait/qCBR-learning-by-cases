{
 "cells": [
  {
   "cell_type": "code",
   "execution_count": 1,
   "metadata": {},
   "outputs": [],
   "source": [
    "import networkx as nx\n",
    "from pennylane import numpy as np\n",
    "\n",
    "n_nodes = 5\n",
    "n_samples = 50\n",
    "p = 0.5"
   ]
  },
  {
   "cell_type": "code",
   "execution_count": 2,
   "metadata": {},
   "outputs": [],
   "source": [
    "def get_energy(matrix, vector):\n",
    "    energy = 0\n",
    "    for i in range(len(vector)):\n",
    "        for j in range(i, len(vector)):\n",
    "            if matrix[i,j] == 1 and vector[i] != vector[j]:\n",
    "                energy += 1\n",
    "    return energy\n",
    "         \n",
    "def lista_binaria(numero_decimal):\n",
    "\n",
    "    modulos = []\n",
    "    while numero_decimal != 0 or len(modulos) != n_nodes:\n",
    "        modulos.insert(0, numero_decimal % 2)\n",
    "        numero_decimal //= 2\n",
    "\n",
    "    return modulos\n",
    "\n",
    "def generate_qCBR_Dataset():\n",
    "    \n",
    "    qCBR_input = []\n",
    "    qCBR_output = []\n",
    "    \n",
    "    for i in range (n_samples):\n",
    "        g_tmp = nx.erdos_renyi_graph(n_nodes, p=p)\n",
    "        positions = nx.spring_layout(g_tmp)\n",
    "        A = np.array(nx.adjacency_matrix(g_tmp).todense())\n",
    "        \n",
    "        maximo = 0\n",
    "        item = 0\n",
    "        for i in range(2 ** (n_nodes-1)):\n",
    "            sol = get_energy(A, lista_binaria(i))\n",
    "            if sol > maximo:\n",
    "                item = i\n",
    "                maximo = sol\n",
    "                \n",
    "        \n",
    "        qCBR_input.append(A.flatten())\n",
    "        qCBR_output.append(lista_binaria(item))\n",
    "    \n",
    "    return np.array(qCBR_input, requires_grad = False),np.array(qCBR_output)\n",
    "\n",
    "qCBR_input,qCBR_output = generate_qCBR_Dataset()\n",
    "\n",
    "np.save(\"qCBR_input.npy\", qCBR_input)\n",
    "np.save(\"qCBR_output.npy\", qCBR_output)"
   ]
  },
  {
   "cell_type": "code",
   "execution_count": null,
   "metadata": {},
   "outputs": [],
   "source": []
  }
 ],
 "metadata": {
  "kernelspec": {
   "display_name": "Python 3",
   "language": "python",
   "name": "python3"
  },
  "language_info": {
   "codemirror_mode": {
    "name": "ipython",
    "version": 3
   },
   "file_extension": ".py",
   "mimetype": "text/x-python",
   "name": "python",
   "nbconvert_exporter": "python",
   "pygments_lexer": "ipython3",
   "version": "3.7.7"
  }
 },
 "nbformat": 4,
 "nbformat_minor": 5
}
